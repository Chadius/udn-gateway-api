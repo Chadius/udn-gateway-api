{
 "cells": [
  {
   "cell_type": "markdown",
   "metadata": {},
   "source": [
    "# How to download sequence files with UDN Gateway and FileService APIs\n",
    "This example uses Python 3 but the concepts can be converted to any scripting language.  More detailed documentation for the UDN Gateway API can be found [here](https://documenter.getpostman.com/view/1367615/RVu1JBWH)\n",
    "\n",
    "### Setup\n",
    "Import python packages and setup header information.  Two different headers are used in this example: one for the UDN Gateway API and the other for the FileService API. "
   ]
  },
  {
   "cell_type": "code",
   "execution_count": null,
   "metadata": {},
   "outputs": [],
   "source": [
    "import requests\n",
    "import json"
   ]
  },
  {
   "cell_type": "markdown",
   "metadata": {},
   "source": [
    "A authorization token is needed to access the UDN Gateway API.  This token is shown in the dictionary below as the `Authorization` token. Login to the web UDN Gateway and navigate to the API to obtain an authorization token. \n",
    "\n",
    "A second token is needed to access the details about files stored in FileService which is the applicaiton that manages metadata for all UDN Gateway sequencing files.  This token is shown in the dictionary below as `FSAuthorization`.  The `FSAuthorization` key is specific to the UDN Gateway API.    \n",
    "\n",
    "Login to FileService to obtain an authorization token. \n",
    "\n",
    "Development URLs: \n",
    "- FileService: https://fileservicedev.aws.dbmi.hms.harvard.edu/\n",
    "- UDN Gateway: https://dev.undiagnosed.hms.harvard.edu\n",
    "\n",
    "Send email to the UDN Coordinating Center to obtain the URLs for the production servers"
   ]
  },
  {
   "cell_type": "code",
   "execution_count": null,
   "metadata": {},
   "outputs": [],
   "source": [
    "gateway_token = 'xxxx'\n",
    "fileservice_token = 'xxxx'"
   ]
  },
  {
   "cell_type": "code",
   "execution_count": null,
   "metadata": {},
   "outputs": [],
   "source": [
    "headers = {\n",
    "    'Content-Type': 'application/json', \n",
    "    'Authorization': 'Token {gw_token}'.format(gw_token=gateway_token), \n",
    "    'FSAuthorization': 'FSToken {fs_token}'.format(fs_token=fileservice_token)\n",
    "}"
   ]
  },
  {
   "cell_type": "markdown",
   "metadata": {},
   "source": [
    "### Get patient indexed file metadata from the UDN Gateway\n",
    "To get a list of files associated with a specific patient make a GET request to  \n",
    "\n",
    "`/api/sequence/files/<patient_udnid>/`\n",
    "\n",
    "where `<patient_udnid>` is the UDN ID of the patient and can be obtained either through the web UDN Gateway interface or using the UDN Gateway API.  \n",
    "\n",
    "This request returns a list of JSON objects that provide details for each file associated with a patient.  "
   ]
  },
  {
   "cell_type": "code",
   "execution_count": null,
   "metadata": {},
   "outputs": [],
   "source": [
    "gateway_host = 'gateway.undiagnosed.hms.harvard.edu'"
   ]
  },
  {
   "cell_type": "code",
   "execution_count": null,
   "metadata": {},
   "outputs": [],
   "source": [
    "udn_id = 'UDN510878'"
   ]
  },
  {
   "cell_type": "markdown",
   "metadata": {},
   "source": [
    "-----\n",
    "Data is returned as a list of JSON objects. The FileService UUID is required to obtain a secure download link. The filename is optional but recommended.  \n",
    "\n",
    "----"
   ]
  },
  {
   "cell_type": "code",
   "execution_count": null,
   "metadata": {
    "scrolled": false
   },
   "outputs": [],
   "source": [
    "url = 'https://{}/api/sequences/{}/'.format(gateway_host, udn_id)\n",
    "r = requests.get(url, headers=headers)\n",
    "r.json()[0]['sequencingfiles'][0]"
   ]
  },
  {
   "cell_type": "code",
   "execution_count": null,
   "metadata": {},
   "outputs": [],
   "source": [
    "fileservice_uuid = r.json()[0]['sequencingfiles'][0]['fileserviceuuid']\n",
    "fileservice_uuid"
   ]
  },
  {
   "cell_type": "code",
   "execution_count": null,
   "metadata": {},
   "outputs": [],
   "source": [
    "filename = r.json()[0]['sequencingfiles'][0]['filename']\n",
    "filename"
   ]
  },
  {
   "cell_type": "markdown",
   "metadata": {},
   "source": [
    "### Get signed download URL from FileService\n",
    "First setup a new set of header information.  The `Token` value here is the same as the `FSToken` in the header used in the header for the UDN Gateway API.  This is now accessing the FileService API.  "
   ]
  },
  {
   "cell_type": "code",
   "execution_count": null,
   "metadata": {},
   "outputs": [],
   "source": [
    "fs_headers = {\n",
    "    'Content-Type': 'application/json; charset=UTF-8', \n",
    "    'Authorization': 'Token {fs_token}'.format(fs_token=fileservice_token)\n",
    "}"
   ]
  },
  {
   "cell_type": "markdown",
   "metadata": {},
   "source": [
    "Use the `fileserviceuuid` from the file metadata returned in the previous section.  Then make a GET request to the following url endpoint to obtain a signed download url from FileService. \n",
    "\n",
    "`/filemaster/api/file/<file_uuid>/download/`"
   ]
  },
  {
   "cell_type": "code",
   "execution_count": null,
   "metadata": {},
   "outputs": [],
   "source": [
    "fs_host = 'fileservice.dbmi.hms.harvard.edu'"
   ]
  },
  {
   "cell_type": "code",
   "execution_count": null,
   "metadata": {},
   "outputs": [],
   "source": [
    "url = 'https://{}/filemaster/api/file/{}/download/'.format(fs_host, fileservice_uuid)\n",
    "r = requests.get(url, headers=fs_headers)\n",
    "r.json()"
   ]
  },
  {
   "cell_type": "code",
   "execution_count": null,
   "metadata": {},
   "outputs": [],
   "source": [
    "download_url = r.json()['url']"
   ]
  },
  {
   "cell_type": "markdown",
   "metadata": {},
   "source": [
    "### File Metadata\n",
    "\n",
    "A GET request to the following url endpoint returns the full set of metadata associated with the file\n",
    "\n",
    "```/filemaster/api/file/<file_uuid>/```"
   ]
  },
  {
   "cell_type": "code",
   "execution_count": null,
   "metadata": {},
   "outputs": [],
   "source": [
    "url = 'https://{}/filemaster/api/file/{}/'.format(fs_host, fileservice_uuid)\n",
    "r = requests.get(url, headers=fs_headers)\n",
    "r.json()"
   ]
  },
  {
   "cell_type": "markdown",
   "metadata": {},
   "source": [
    "### Download file\n",
    "Then use a download tool like wget to download the file from the `url` field that is returned. Be sure to include the quotation marks.   \n",
    "\n",
    "```\n",
    "wget -O \"<filename>\" \"<url>\"\n",
    "```\n",
    "\n",
    "The example below shows how to call `wget` programmatically within a python script"
   ]
  },
  {
   "cell_type": "code",
   "execution_count": null,
   "metadata": {},
   "outputs": [],
   "source": [
    "from subprocess import call"
   ]
  },
  {
   "cell_type": "code",
   "execution_count": null,
   "metadata": {},
   "outputs": [],
   "source": [
    "call('wget -O \"'+filename+'\" \"'+download_url+'\"', shell=True)"
   ]
  },
  {
   "cell_type": "markdown",
   "metadata": {},
   "source": [
    "# Entire process scripted\n",
    "\n",
    "The following section shows an aggregation of the previous examples into a single scripted solution for downloading sequencing files."
   ]
  },
  {
   "cell_type": "code",
   "execution_count": null,
   "metadata": {},
   "outputs": [],
   "source": [
    "import requests\n",
    "import json\n",
    "from subprocess import call\n",
    "\n",
    "# setup tokens to easily switch between systems (eg dev and prod)\n",
    "gateway_token = 'xxxx'\n",
    "fileservice_token = 'xxxx'\n",
    "\n",
    "headers = {\n",
    "    'Content-Type': 'application/json', \n",
    "    'Authorization': 'Token {gw_token}'.format(gw_token=gateway_token), \n",
    "    'FSAuthorization': 'FSToken {fs_token}'.format(fs_token=fileservice_token)\n",
    "}\n",
    "\n",
    "# FileSerivce API needs a separate set of headers\n",
    "fs_headers = {\n",
    "    'Content-Type': 'application/json; charset=UTF-8', \n",
    "    'Authorization': 'Token {fs_token}'.format(fs_token=fileservice_token)\n",
    "}\n",
    "\n",
    "# setup the host to easily switch between systems\n",
    "gateway_host = 'udndev.dbmi.hms.harvard.edu'\n",
    "fileservice_host = 'fileservicedev.aws.dbmi.hms.harvard.edu'\n",
    "\n",
    "# for a single patient\n",
    "udnid = 'some UDN ID'\n",
    "\n",
    "# the sequence/files/ endpoint returns a list of json objects with file info\n",
    "url = 'https://{}/api/sequences/{}/'.format(host, udn_id)\n",
    "r = requests.get(url, headers=headers, verify=False)\n",
    "\n",
    "# we can loop through that list to download each file\n",
    "for file in r.json()[0]['sequencingfiles']\n",
    "    uuid = file['fileserviceuuid']\n",
    "    filename = file['filename']\n",
    "    \n",
    "    try:\n",
    "        url = 'https://{}/filemaster/api/file/{}/download/'.format(fs_host, uuid)\n",
    "        r = requests.get(url, headers=fs_headers, veryify=False)\n",
    "    except:\n",
    "        continue\n",
    "    else:\n",
    "        download_url = r.json()['url']\n",
    "        call('wget -O \"{}\" \"{}\"'.format(filename, download_url), shell=True)"
   ]
  }
 ],
 "metadata": {
  "anaconda-cloud": {},
  "kernelspec": {
   "display_name": "Python 3",
   "language": "python",
   "name": "python3"
  },
  "language_info": {
   "codemirror_mode": {
    "name": "ipython",
    "version": 3
   },
   "file_extension": ".py",
   "mimetype": "text/x-python",
   "name": "python",
   "nbconvert_exporter": "python",
   "pygments_lexer": "ipython3",
   "version": "3.7.2"
  }
 },
 "nbformat": 4,
 "nbformat_minor": 1
}
