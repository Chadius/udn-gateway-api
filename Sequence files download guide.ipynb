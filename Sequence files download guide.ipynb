{
 "cells": [
  {
   "cell_type": "markdown",
   "metadata": {},
   "source": [
    "# How to download sequence files with UDN Gateway and FileService APIs\n",
    "This example uses python but the concepts can be converted to any scripting language. \n",
    "\n",
    "## Setup\n",
    "Import python packages and setup header information.  Two different headers are used in this example: one for the UDN Gateway API and the other for the FileService API. "
   ]
  },
  {
   "cell_type": "code",
   "execution_count": null,
   "metadata": {
    "collapsed": true
   },
   "outputs": [],
   "source": [
    "import requests\n",
    "import json"
   ]
  },
  {
   "cell_type": "markdown",
   "metadata": {},
   "source": [
    "A authorization token is needed to access the UDN Gateway API.  This token is shown in the dictionary below as the `Authorization` token. Login to the web UDN Gateway and navigate to `/login/token/` to obtain an authorization token. \n",
    "\n",
    "A second token is needed to access the details about files stored in FileService which is the applicaiton that manages metadata for all UDN Gateway sequencing files.  This token is shown in the dictionary below as `FSAuthorization`.  The `FSAuthorization` key is specific to the UDN Gateway API.    \n",
    "\n",
    "Login to FileService and navigate to `/filemaster/token/` to obtain an authorization token. \n",
    "\n",
    "development: https://fileservice-ci.dbmi.hms.harvard.edu/\n",
    "\n",
    "production: https://fileservice.dbmi.hms.harvard.edu/\n",
    "\n"
   ]
  },
  {
   "cell_type": "code",
   "execution_count": null,
   "metadata": {
    "collapsed": false
   },
   "outputs": [],
   "source": [
    "gateway_token = 'xxxxx'\n",
    "fileservice_token = 'xxxx'"
   ]
  },
  {
   "cell_type": "code",
   "execution_count": null,
   "metadata": {
    "collapsed": true
   },
   "outputs": [],
   "source": [
    "headers = {'Content-Type': 'application/json', \n",
    "           'Authorization': 'Token ' + gateway_token, \n",
    "           'FSAuthorization': 'FSToken ' + fileservice_token}"
   ]
  },
  {
   "cell_type": "markdown",
   "metadata": {},
   "source": [
    "## Get patient indexed file metadata from the UDN Gateway\n",
    "To get a list of files associated with a specific patient make a GET request to  \n",
    "\n",
    "`/api/sequence/files/<patient_udnid>/`\n",
    "\n",
    "where `<patient_udnid>` is the UDN ID of the patient and can be obtained either through the web UDN Gateway interface or using the UDN Gateway API.  \n",
    "\n",
    "This request returns a list of JSON objects that provide details for each file associated with a patient.  "
   ]
  },
  {
   "cell_type": "code",
   "execution_count": null,
   "metadata": {
    "collapsed": true
   },
   "outputs": [],
   "source": [
    "gateway_system_url = 'https://gateway.undiagnosed.hms.harvard.edu/api'"
   ]
  },
  {
   "cell_type": "code",
   "execution_count": null,
   "metadata": {
    "collapsed": true
   },
   "outputs": [],
   "source": [
    "patient_udnid = 'UDN799247'"
   ]
  },
  {
   "cell_type": "markdown",
   "metadata": {},
   "source": [
    "-----\n",
    "Data is returned as a list of JSON objects.  This example looks at the first object in that list as indicated by the `[0]` in the last line of the following code block.  The FileService UUID is required to obtain a secure download link.  The filename is optional but recommended.  \n",
    "\n",
    "----"
   ]
  },
  {
   "cell_type": "code",
   "execution_count": null,
   "metadata": {
    "collapsed": false,
    "scrolled": false
   },
   "outputs": [],
   "source": [
    "url = gateway_system_url + '/sequence/files/'+ patient_udnid +'/'\n",
    "r = requests.get(url, headers=headers)\n",
    "print r\n",
    "r.json()[0]"
   ]
  },
  {
   "cell_type": "code",
   "execution_count": null,
   "metadata": {
    "collapsed": true
   },
   "outputs": [],
   "source": [
    "fileserviceuuid = r.json()[0]['fileserviceuuid']"
   ]
  },
  {
   "cell_type": "code",
   "execution_count": null,
   "metadata": {
    "collapsed": true
   },
   "outputs": [],
   "source": [
    "filename = r.json()[0]['filename']"
   ]
  },
  {
   "cell_type": "markdown",
   "metadata": {},
   "source": [
    "## Get file download URL from FileService\n",
    "First setup a new set of header information.  The `Token` value here is the same as the `FSToken` in the header used in the header for the UDN Gateway API.  This is now accessing the FileService API.  "
   ]
  },
  {
   "cell_type": "code",
   "execution_count": null,
   "metadata": {
    "collapsed": true
   },
   "outputs": [],
   "source": [
    "fs_headers = {'Content-Type': 'application/json; charset=UTF-8', \n",
    "              'Authorization': 'Token '+ fileservice_token\n",
    "             }"
   ]
  },
  {
   "cell_type": "markdown",
   "metadata": {},
   "source": [
    "Use the `fileserviceuuid` from the file metadata returned in the previous section.  Then make a GET request to the following url endpoint to obtain a signed download url from FileService. \n",
    "\n",
    "`/filemaster/api/file/<file_uuid>/download/`"
   ]
  },
  {
   "cell_type": "code",
   "execution_count": null,
   "metadata": {
    "collapsed": true
   },
   "outputs": [],
   "source": [
    "fileservice_system_url = 'https://fileservice.dbmi.hms.harvard.edu/filemaster/api'"
   ]
  },
  {
   "cell_type": "code",
   "execution_count": null,
   "metadata": {
    "collapsed": false
   },
   "outputs": [],
   "source": [
    "url = fileservice_system_url + '/file/' + fileserviceuuid + '/download/'\n",
    "r = requests.get(url, headers=fs_headers)\n",
    "print r\n",
    "r.json()"
   ]
  },
  {
   "cell_type": "code",
   "execution_count": null,
   "metadata": {
    "collapsed": true
   },
   "outputs": [],
   "source": [
    "download_url = r.json()['url']"
   ]
  },
  {
   "cell_type": "markdown",
   "metadata": {},
   "source": [
    "### File Metadata\n",
    "\n",
    "A GET request to the following url endpoint returns the full set of metadata associated with the file\n",
    "\n",
    "```/filemaster/api/file/<file_uuid>/```"
   ]
  },
  {
   "cell_type": "code",
   "execution_count": null,
   "metadata": {
    "collapsed": false
   },
   "outputs": [],
   "source": [
    "url = fileservice_system_url + '/file/' + fileserviceuuid + '/'\n",
    "r = requests.get(url, headers=fs_headers)\n",
    "print r\n",
    "r.json()"
   ]
  },
  {
   "cell_type": "markdown",
   "metadata": {},
   "source": [
    "# Download file\n",
    "Then use a download tool like wget to download the file from the `url` field that is returned. Be sure to include the quotation marks.   \n",
    "\n",
    "```\n",
    "wget -O \"<filename>\" \"<url>\"\n",
    "```\n",
    "\n",
    "The example below shows how to call `wget` programmatically within a python script"
   ]
  },
  {
   "cell_type": "code",
   "execution_count": null,
   "metadata": {
    "collapsed": true
   },
   "outputs": [],
   "source": [
    "from subprocess import call"
   ]
  },
  {
   "cell_type": "code",
   "execution_count": null,
   "metadata": {
    "collapsed": false
   },
   "outputs": [],
   "source": [
    "call('wget -O \"'+filename+'\" \"'+download_url+'\"', shell=True)"
   ]
  }
 ],
 "metadata": {
  "anaconda-cloud": {},
  "kernelspec": {
   "display_name": "Python [Root]",
   "language": "python",
   "name": "Python [Root]"
  },
  "language_info": {
   "codemirror_mode": {
    "name": "ipython",
    "version": 2
   },
   "file_extension": ".py",
   "mimetype": "text/x-python",
   "name": "python",
   "nbconvert_exporter": "python",
   "pygments_lexer": "ipython2",
   "version": "2.7.13"
  }
 },
 "nbformat": 4,
 "nbformat_minor": 0
}
