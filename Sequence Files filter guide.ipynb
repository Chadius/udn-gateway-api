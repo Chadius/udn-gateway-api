{
 "cells": [
  {
   "cell_type": "markdown",
   "metadata": {},
   "source": [
    "## Introduction\n",
    "A quick example of how to filter sequencing file info using the UDN Gateway API.  See the ***Sequencing Files Download Guide*** for information on how to download specific files using data obtained in this guide. \n",
    "\n",
    "## Imports\n",
    "This example usese python, specifically the requests and json packages.  Search google for more info."
   ]
  },
  {
   "cell_type": "code",
   "execution_count": 19,
   "metadata": {
    "collapsed": true
   },
   "outputs": [],
   "source": [
    "import requests\n",
    "import json\n",
    "import pandas"
   ]
  },
  {
   "cell_type": "markdown",
   "metadata": {},
   "source": [
    "## Authentication\n",
    "A authorization token is needed to access the UDN Gateway API.  This token is shown in the dictionary below as the `Authorization` token. Login to the web UDN Gateway and navigate to `/login/token/` to obtain an authorization token. \n",
    "\n",
    "A second token is needed to access the details about files stored in FileService which is the applicaiton that manages metadata for all UDN Gateway sequencing files.  This token is shown in the dictionary below as `FSAuthorization`.  The `FSAuthorization` key is specific to the UDN Gateway API.  The UDN Gateway API uses the FileService Token to obtain detailed information about the files from FileService.     \n",
    "\n",
    "Login to FileService and navigate to `/filemaster/token/` to obtain an authorization token. \n",
    "\n",
    "development: https://fileservice-ci.dbmi.hms.harvard.edu/\n",
    "\n",
    "production: https://fileservice.dbmi.hms.harvard.edu/"
   ]
  },
  {
   "cell_type": "code",
   "execution_count": 16,
   "metadata": {
    "collapsed": true
   },
   "outputs": [],
   "source": [
    "gateway_token = 'xxxxx'\n",
    "fileservice_token = 'xxxxx'"
   ]
  },
  {
   "cell_type": "code",
   "execution_count": 17,
   "metadata": {
    "collapsed": true
   },
   "outputs": [],
   "source": [
    "headers = {'Content-Type': 'application/json', \n",
    "           'Authorization': 'Token ' + gateway_token, \n",
    "           'FSAuthorization': 'FSToken ' + fileservice_token}"
   ]
  },
  {
   "cell_type": "code",
   "execution_count": null,
   "metadata": {
    "collapsed": true
   },
   "outputs": [],
   "source": [
    "system_url = 'https://gateway.undiagnosed.hms.harvard.edu/api'"
   ]
  },
  {
   "cell_type": "markdown",
   "metadata": {},
   "source": [
    "## Sequence File Metadata\n",
    "Access Sequence File metadata from the UDN Gateway API.  A GET request to \n",
    "\n",
    "```\n",
    "/api/sequence/files\n",
    "``` \n",
    "\n",
    "returns a list of metadata dictionaries for every sequence file in the UDN Gateway.  In the code example below the `[0]` on the last line prints the first JSON object in the list. "
   ]
  },
  {
   "cell_type": "code",
   "execution_count": 18,
   "metadata": {
    "collapsed": false
   },
   "outputs": [
    {
     "name": "stdout",
     "output_type": "stream",
     "text": [
      "<Response [200]>\n"
     ]
    },
    {
     "data": {
      "text/plain": [
       "{u'complete': True,\n",
       " u'filename': u'616273-UDN59528_HKWJWADXX-2-ID03_DNASeq_BWA_AlignerCommandsSubstituted.xml',\n",
       " u'fileserviceloc': 3,\n",
       " u'fileserviceuuid': u'77f5ca8c-f6be-4ed0-884e-bb6d7a796810',\n",
       " u'sequencingfilesstuff': u'None',\n",
       " u'sequencingsites': 1,\n",
       " u'uploaded': None,\n",
       " u'uuid': u'5167fea9-af38-42f9-9384-e5ced2a5fef4'}"
      ]
     },
     "execution_count": 18,
     "metadata": {},
     "output_type": "execute_result"
    }
   ],
   "source": [
    "url = system_url + '/sequence/files/'\n",
    "r = requests.get(url, headers=headers)\n",
    "# check the status\n",
    "print r\n",
    "# look at the data\n",
    "r.json()[0]"
   ]
  },
  {
   "cell_type": "markdown",
   "metadata": {},
   "source": [
    "## Data Analysis\n",
    "Once we have the list of sequence files, we can do some processing on that data like... put it into a DataFrame"
   ]
  },
  {
   "cell_type": "code",
   "execution_count": 24,
   "metadata": {
    "collapsed": false,
    "scrolled": false
   },
   "outputs": [
    {
     "data": {
      "text/html": [
       "<div>\n",
       "<table border=\"1\" class=\"dataframe\">\n",
       "  <thead>\n",
       "    <tr style=\"text-align: right;\">\n",
       "      <th></th>\n",
       "      <th>complete</th>\n",
       "      <th>filename</th>\n",
       "      <th>fileserviceloc</th>\n",
       "      <th>fileserviceuuid</th>\n",
       "      <th>sequencingfilesstuff</th>\n",
       "      <th>sequencingsites</th>\n",
       "      <th>uploaded</th>\n",
       "      <th>uuid</th>\n",
       "    </tr>\n",
       "  </thead>\n",
       "  <tbody>\n",
       "    <tr>\n",
       "      <th>0</th>\n",
       "      <td>True</td>\n",
       "      <td>616273-UDN59528_HKWJWADXX-2-ID03_DNASeq_BWA_Al...</td>\n",
       "      <td>3</td>\n",
       "      <td>77f5ca8c-f6be-4ed0-884e-bb6d7a796810</td>\n",
       "      <td>None</td>\n",
       "      <td>1</td>\n",
       "      <td>None</td>\n",
       "      <td>5167fea9-af38-42f9-9384-e5ced2a5fef4</td>\n",
       "    </tr>\n",
       "    <tr>\n",
       "      <th>1</th>\n",
       "      <td>True</td>\n",
       "      <td>616273-UDN59528_HKWJWADXX-2-ID03.SNPs_Annotate...</td>\n",
       "      <td>21</td>\n",
       "      <td>88ae6bfe-13b7-4930-9698-3380e9add3fc</td>\n",
       "      <td>None</td>\n",
       "      <td>1</td>\n",
       "      <td>None</td>\n",
       "      <td>f73fac75-222d-4963-8f5a-02a34af0f429</td>\n",
       "    </tr>\n",
       "    <tr>\n",
       "      <th>2</th>\n",
       "      <td>True</td>\n",
       "      <td>616273-UDN59528_HKWJWADXX-2-ID03.INDELs_Annota...</td>\n",
       "      <td>24</td>\n",
       "      <td>b25c43ad-d531-4d77-a231-e5ac56f13555</td>\n",
       "      <td>None</td>\n",
       "      <td>1</td>\n",
       "      <td>None</td>\n",
       "      <td>fccdad8d-7083-49d5-ab04-a84e65c47a77</td>\n",
       "    </tr>\n",
       "    <tr>\n",
       "      <th>3</th>\n",
       "      <td>True</td>\n",
       "      <td>616273-UDN59528_HKWJWADXX-2-ID03.tsv.all.tsv.i...</td>\n",
       "      <td>27</td>\n",
       "      <td>80fca357-9c8c-4499-8b35-735b61b42d80</td>\n",
       "      <td>None</td>\n",
       "      <td>1</td>\n",
       "      <td>None</td>\n",
       "      <td>c0630445-dbcd-49e2-8a7c-dec11f6559d3</td>\n",
       "    </tr>\n",
       "    <tr>\n",
       "      <th>4</th>\n",
       "      <td>True</td>\n",
       "      <td>616273-UDN59528_HKWJWADXX-2-ID03_2_sequence.tx...</td>\n",
       "      <td>30</td>\n",
       "      <td>c705b3cb-fd50-47be-b868-3020d8526306</td>\n",
       "      <td>None</td>\n",
       "      <td>1</td>\n",
       "      <td>None</td>\n",
       "      <td>ff3d6eba-d106-463b-be9e-ceeaefb002bd</td>\n",
       "    </tr>\n",
       "  </tbody>\n",
       "</table>\n",
       "</div>"
      ],
      "text/plain": [
       "  complete                                           filename  fileserviceloc  \\\n",
       "0     True  616273-UDN59528_HKWJWADXX-2-ID03_DNASeq_BWA_Al...               3   \n",
       "1     True  616273-UDN59528_HKWJWADXX-2-ID03.SNPs_Annotate...              21   \n",
       "2     True  616273-UDN59528_HKWJWADXX-2-ID03.INDELs_Annota...              24   \n",
       "3     True  616273-UDN59528_HKWJWADXX-2-ID03.tsv.all.tsv.i...              27   \n",
       "4     True  616273-UDN59528_HKWJWADXX-2-ID03_2_sequence.tx...              30   \n",
       "\n",
       "                        fileserviceuuid sequencingfilesstuff  sequencingsites  \\\n",
       "0  77f5ca8c-f6be-4ed0-884e-bb6d7a796810                 None                1   \n",
       "1  88ae6bfe-13b7-4930-9698-3380e9add3fc                 None                1   \n",
       "2  b25c43ad-d531-4d77-a231-e5ac56f13555                 None                1   \n",
       "3  80fca357-9c8c-4499-8b35-735b61b42d80                 None                1   \n",
       "4  c705b3cb-fd50-47be-b868-3020d8526306                 None                1   \n",
       "\n",
       "  uploaded                                  uuid  \n",
       "0     None  5167fea9-af38-42f9-9384-e5ced2a5fef4  \n",
       "1     None  f73fac75-222d-4963-8f5a-02a34af0f429  \n",
       "2     None  fccdad8d-7083-49d5-ab04-a84e65c47a77  \n",
       "3     None  c0630445-dbcd-49e2-8a7c-dec11f6559d3  \n",
       "4     None  ff3d6eba-d106-463b-be9e-ceeaefb002bd  "
      ]
     },
     "execution_count": 24,
     "metadata": {},
     "output_type": "execute_result"
    }
   ],
   "source": [
    "seqfile_df = pandas.DataFrame(r.json())\n",
    "seqfile_df.head()"
   ]
  },
  {
   "cell_type": "markdown",
   "metadata": {},
   "source": [
    "## Filtering\n",
    "Filter the dataframe for just vcf files..."
   ]
  },
  {
   "cell_type": "code",
   "execution_count": 28,
   "metadata": {
    "collapsed": false
   },
   "outputs": [
    {
     "data": {
      "text/html": [
       "<div>\n",
       "<table border=\"1\" class=\"dataframe\">\n",
       "  <thead>\n",
       "    <tr style=\"text-align: right;\">\n",
       "      <th></th>\n",
       "      <th>complete</th>\n",
       "      <th>filename</th>\n",
       "      <th>fileserviceloc</th>\n",
       "      <th>fileserviceuuid</th>\n",
       "      <th>sequencingfilesstuff</th>\n",
       "      <th>sequencingsites</th>\n",
       "      <th>uploaded</th>\n",
       "      <th>uuid</th>\n",
       "    </tr>\n",
       "  </thead>\n",
       "  <tbody>\n",
       "    <tr>\n",
       "      <th>1</th>\n",
       "      <td>True</td>\n",
       "      <td>616273-UDN59528_HKWJWADXX-2-ID03.SNPs_Annotate...</td>\n",
       "      <td>21</td>\n",
       "      <td>88ae6bfe-13b7-4930-9698-3380e9add3fc</td>\n",
       "      <td>None</td>\n",
       "      <td>1</td>\n",
       "      <td>None</td>\n",
       "      <td>f73fac75-222d-4963-8f5a-02a34af0f429</td>\n",
       "    </tr>\n",
       "    <tr>\n",
       "      <th>2</th>\n",
       "      <td>True</td>\n",
       "      <td>616273-UDN59528_HKWJWADXX-2-ID03.INDELs_Annota...</td>\n",
       "      <td>24</td>\n",
       "      <td>b25c43ad-d531-4d77-a231-e5ac56f13555</td>\n",
       "      <td>None</td>\n",
       "      <td>1</td>\n",
       "      <td>None</td>\n",
       "      <td>fccdad8d-7083-49d5-ab04-a84e65c47a77</td>\n",
       "    </tr>\n",
       "    <tr>\n",
       "      <th>32</th>\n",
       "      <td>True</td>\n",
       "      <td>616817-UDN58253_HKWFNADXX-2-ID02.INDELs_Annota...</td>\n",
       "      <td>0</td>\n",
       "      <td>22887e0d-bb01-4b6f-b36b-1b171e6cf4c1</td>\n",
       "      <td>None</td>\n",
       "      <td>1</td>\n",
       "      <td>None</td>\n",
       "      <td>45a252d3-8712-42b5-84de-e99d06389d11</td>\n",
       "    </tr>\n",
       "    <tr>\n",
       "      <th>37</th>\n",
       "      <td>True</td>\n",
       "      <td>616817-UDN58253_HKWFNADXX-2-ID02.SNPs_Annotate...</td>\n",
       "      <td>0</td>\n",
       "      <td>5768b0b4-f55a-41be-a571-68ff87a6c2e6</td>\n",
       "      <td>None</td>\n",
       "      <td>1</td>\n",
       "      <td>None</td>\n",
       "      <td>bd02fd98-7192-4c8e-b023-181eb9ab608e</td>\n",
       "    </tr>\n",
       "    <tr>\n",
       "      <th>58</th>\n",
       "      <td>True</td>\n",
       "      <td>616816-UDN25969_HKWFNADXX-2-ID01.INDELs_Annota...</td>\n",
       "      <td>0</td>\n",
       "      <td>53ed6cc6-1834-420a-9b89-374bd3dc55a4</td>\n",
       "      <td>None</td>\n",
       "      <td>1</td>\n",
       "      <td>None</td>\n",
       "      <td>1486e71a-2d58-4a00-97b3-0d2d0a91ed4c</td>\n",
       "    </tr>\n",
       "  </tbody>\n",
       "</table>\n",
       "</div>"
      ],
      "text/plain": [
       "   complete                                           filename  \\\n",
       "1      True  616273-UDN59528_HKWJWADXX-2-ID03.SNPs_Annotate...   \n",
       "2      True  616273-UDN59528_HKWJWADXX-2-ID03.INDELs_Annota...   \n",
       "32     True  616817-UDN58253_HKWFNADXX-2-ID02.INDELs_Annota...   \n",
       "37     True  616817-UDN58253_HKWFNADXX-2-ID02.SNPs_Annotate...   \n",
       "58     True  616816-UDN25969_HKWFNADXX-2-ID01.INDELs_Annota...   \n",
       "\n",
       "    fileserviceloc                       fileserviceuuid sequencingfilesstuff  \\\n",
       "1               21  88ae6bfe-13b7-4930-9698-3380e9add3fc                 None   \n",
       "2               24  b25c43ad-d531-4d77-a231-e5ac56f13555                 None   \n",
       "32               0  22887e0d-bb01-4b6f-b36b-1b171e6cf4c1                 None   \n",
       "37               0  5768b0b4-f55a-41be-a571-68ff87a6c2e6                 None   \n",
       "58               0  53ed6cc6-1834-420a-9b89-374bd3dc55a4                 None   \n",
       "\n",
       "    sequencingsites uploaded                                  uuid  \n",
       "1                 1     None  f73fac75-222d-4963-8f5a-02a34af0f429  \n",
       "2                 1     None  fccdad8d-7083-49d5-ab04-a84e65c47a77  \n",
       "32                1     None  45a252d3-8712-42b5-84de-e99d06389d11  \n",
       "37                1     None  bd02fd98-7192-4c8e-b023-181eb9ab608e  \n",
       "58                1     None  1486e71a-2d58-4a00-97b3-0d2d0a91ed4c  "
      ]
     },
     "execution_count": 28,
     "metadata": {},
     "output_type": "execute_result"
    }
   ],
   "source": [
    "vcf_files_df = seqfile_df[seqfile_df['filename'].str.contains('.vcf')]\n",
    "vcf_files_df.head()"
   ]
  },
  {
   "cell_type": "markdown",
   "metadata": {},
   "source": [
    "## Process\n",
    "Or if you want execute a process on each vcf file, just iterate over the dataframe"
   ]
  },
  {
   "cell_type": "code",
   "execution_count": 33,
   "metadata": {
    "collapsed": false,
    "scrolled": false
   },
   "outputs": [
    {
     "name": "stdout",
     "output_type": "stream",
     "text": [
      "616273-UDN59528_HKWJWADXX-2-ID03.SNPs_Annotated.vcf, 88ae6bfe-13b7-4930-9698-3380e9add3fc\n",
      "616273-UDN59528_HKWJWADXX-2-ID03.INDELs_Annotated.vcf, b25c43ad-d531-4d77-a231-e5ac56f13555\n",
      "616817-UDN58253_HKWFNADXX-2-ID02.INDELs_Annotated.vcf, 22887e0d-bb01-4b6f-b36b-1b171e6cf4c1\n",
      "616817-UDN58253_HKWFNADXX-2-ID02.SNPs_Annotated.vcf, 5768b0b4-f55a-41be-a571-68ff87a6c2e6\n",
      "616816-UDN25969_HKWFNADXX-2-ID01.INDELs_Annotated.vcf, 53ed6cc6-1834-420a-9b89-374bd3dc55a4\n",
      "616816-UDN25969_HKWFNADXX-2-ID01.SNPs_Annotated.vcf, e5211428-04f1-4924-969b-acd4da95564a\n",
      "616818-UDN13334_HKWFNADXX-2-ID03.INDELs_Annotated.vcf, 3783b723-baa8-4b72-9938-dbfd62b45bb9\n",
      "616818-UDN13334_HKWFNADXX-2-ID03.SNPs_Annotated.vcf, ee11b8e8-90ab-4676-a2a3-ffe49df13f71\n",
      "/clinical/MCW2015-000554/Bam/MCW2015-000554_mbq20_raw.vcf, bdb4d6cf-929f-4ff5-b2d5-b3867f20b3ff\n",
      "/clinical/MCW2015-000554/Bam/MCW2015-000554_mbq20_raw.vcf.idx, 7ff7bd58-fd22-45e6-b390-b04a339e5c00\n",
      "/clinical/MCW2015-000554/Bam/MCW2015-000554_mbq20_raw.vcf.out, 7dbf2a0b-580d-482a-970b-8f8bbcf7f46a\n"
     ]
    }
   ],
   "source": [
    "for index, row in vcf_files_df.iterrows():\n",
    "    # let's just look at the first few...\n",
    "    if index < 100:\n",
    "        print row['filename'] + ', ' + row['fileserviceuuid']"
   ]
  },
  {
   "cell_type": "markdown",
   "metadata": {},
   "source": [
    "## Download\n",
    "Check out the ***Sequence File Download Guide*** guide for how to obtain a download link for each file"
   ]
  },
  {
   "cell_type": "code",
   "execution_count": null,
   "metadata": {
    "collapsed": true
   },
   "outputs": [],
   "source": []
  }
 ],
 "metadata": {
  "kernelspec": {
   "display_name": "Python [Root]",
   "language": "python",
   "name": "Python [Root]"
  },
  "language_info": {
   "codemirror_mode": {
    "name": "ipython",
    "version": 2
   },
   "file_extension": ".py",
   "mimetype": "text/x-python",
   "name": "python",
   "nbconvert_exporter": "python",
   "pygments_lexer": "ipython2",
   "version": "2.7.13"
  }
 },
 "nbformat": 4,
 "nbformat_minor": 2
}
