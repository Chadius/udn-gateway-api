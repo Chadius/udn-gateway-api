{
 "cells": [
  {
   "cell_type": "code",
   "execution_count": 1,
   "metadata": {},
   "outputs": [],
   "source": [
    "import requests\n",
    "import json"
   ]
  },
  {
   "cell_type": "markdown",
   "metadata": {},
   "source": [
    "## Authentication\n",
    "A authorization token is needed to access the UDN Gateway API.  This token is shown in the dictionary below as the `Authorization` token. Login to the web UDN Gateway and navigate to the API tab to obtain an authorization token."
   ]
  },
  {
   "cell_type": "code",
   "execution_count": 7,
   "metadata": {},
   "outputs": [],
   "source": [
    "gateway_token = 'your gateway token'"
   ]
  },
  {
   "cell_type": "code",
   "execution_count": 8,
   "metadata": {},
   "outputs": [],
   "source": [
    "headers = {\n",
    "    'Content-Type': 'application/json', \n",
    "    'Authorization': 'Token {token}'.format(token=gateway_token) \n",
    "}"
   ]
  },
  {
   "cell_type": "markdown",
   "metadata": {},
   "source": [
    "### Host setup\n",
    "This simplifies switching between production and development environments"
   ]
  },
  {
   "cell_type": "code",
   "execution_count": 9,
   "metadata": {},
   "outputs": [],
   "source": [
    "host = 'https://udndev.dbmi.hms.harvard.edu'"
   ]
  },
  {
   "cell_type": "markdown",
   "metadata": {},
   "source": [
    "## Get patient record details\n",
    "\n",
    "The endpoint `/api/patientrecord/<UDN ID>/` will return a JSON data payload that contains all the details for the patient record. "
   ]
  },
  {
   "cell_type": "code",
   "execution_count": 13,
   "metadata": {},
   "outputs": [
    {
     "data": {
      "text/plain": [
       "{'id': 5,\n",
       " 'patient': {'id': 6,\n",
       "  'gender': {'id': 1, 'name': 'Male'},\n",
       "  'race': [{'id': 1, 'name': 'American Indian or Alaska Native'}],\n",
       "  'ethnicity': {'id': 9, 'name': 'Unknown/Not Reported Ethnicity'},\n",
       "  'symptom': {'id': 3,\n",
       "   'name': 'Dentistry and craniofacial (bones of head and face)'},\n",
       "  'patientaddress1': {'formatted': ''},\n",
       "  'doctoraddress1': {'formatted': ''},\n",
       "  'primaryrelative': None,\n",
       "  'patient_app_patient': {},\n",
       "  'uuid': '4dc26cf0-8e48-4955-ba4f-cfbe97dbd952',\n",
       "  'patientemail': '',\n",
       "  'patientemailrep': '',\n",
       "  'patientfirst': 'David',\n",
       "  'patientlast': 'Bernick',\n",
       "  'patientaddress2': '',\n",
       "  'patientstate': 'Massachusetts',\n",
       "  'patientcity': 'Boston',\n",
       "  'patientcountrycode': None,\n",
       "  'patientzip': '02110',\n",
       "  'patientphone': '617-388-3942',\n",
       "  'doctoremail': 'asdfsdafds@asdfsadf.com',\n",
       "  'doctorfirst': 'Peter',\n",
       "  'doctorlast': 'Parker',\n",
       "  'doctoraddress2': '',\n",
       "  'doctorstate': 'Massachusetts',\n",
       "  'doctorcity': 'Boston',\n",
       "  'doctorzip': '02215',\n",
       "  'doctorcountrycode': None,\n",
       "  'doctorphone': '617-388-3942',\n",
       "  'doctorfax': '617-388-3942',\n",
       "  'dob': '1977-05-17',\n",
       "  'birth_assigned_gender': '',\n",
       "  'current_gender_identity': '',\n",
       "  'other_race': '',\n",
       "  'other_symptom_explain': '',\n",
       "  'symptomonset': '2015-03-01',\n",
       "  'environment': '0',\n",
       "  'environmentexplain': '',\n",
       "  'exposure': '0',\n",
       "  'exposureexplain': '',\n",
       "  'clinicaltrials': '0',\n",
       "  'geographicrefer': '1',\n",
       "  'geographicexplain': '',\n",
       "  'travellimitationsother': '',\n",
       "  'udn_referral': '',\n",
       "  'evaluationdate': '2015-04-14',\n",
       "  'simpleid': 'UDN24681',\n",
       "  'familyid': 'b419db3c-8417-11e6-8436-121c918d7975',\n",
       "  'primaryrelativerelation': None,\n",
       "  'phenotipsid': 'P0000040',\n",
       "  'patientguardian': '',\n",
       "  'activestatus': 'A',\n",
       "  'languagepreference': '',\n",
       "  'appliedbefore': '1',\n",
       "  'qualtricsid': 'MLRP_9NeRgcgL7Wo3iQt',\n",
       "  'ifeval': False,\n",
       "  'similarsymptoms': '2',\n",
       "  'similarsymptomsexplain': '',\n",
       "  'all_races': 'American Indian or Alaska Native',\n",
       "  'patientaddressmanual': None,\n",
       "  'doctoraddressmanual': None,\n",
       "  'alternatesite': 2,\n",
       "  'travellimitations': None,\n",
       "  'udn_referral_method': None,\n",
       "  'encoded_relation': None,\n",
       "  'affected': 2,\n",
       "  'seenatclinicalsites': [],\n",
       "  'travellimitationsmulti': [1]},\n",
       " 'uuid': 'a0424b00-e97d-420b-b1e7-f8fc9905da7d',\n",
       " 'iseval': True,\n",
       " 'evalschedule': False,\n",
       " 'evaltext': '',\n",
       " 'media': False,\n",
       " 'comment': '',\n",
       " 'deceased': False}"
      ]
     },
     "execution_count": 13,
     "metadata": {},
     "output_type": "execute_result"
    }
   ],
   "source": [
    "url = '{host}/api/patientrecord/{udn_id}/'.format(host=host, udn_id='UDN24681')\n",
    "r = requests.get(url, headers=headers)\n",
    "r.json()"
   ]
  },
  {
   "cell_type": "markdown",
   "metadata": {},
   "source": [
    "### Patient UUID\n",
    "The UUID of the patient can be found within the patient item of the patient record"
   ]
  },
  {
   "cell_type": "code",
   "execution_count": 15,
   "metadata": {},
   "outputs": [
    {
     "data": {
      "text/plain": [
       "'4dc26cf0-8e48-4955-ba4f-cfbe97dbd952'"
      ]
     },
     "execution_count": 15,
     "metadata": {},
     "output_type": "execute_result"
    }
   ],
   "source": [
    "r.json()['patient']['uuid']"
   ]
  }
 ],
 "metadata": {
  "kernelspec": {
   "display_name": "Python 3",
   "language": "python",
   "name": "python3"
  },
  "language_info": {
   "codemirror_mode": {
    "name": "ipython",
    "version": 3
   },
   "file_extension": ".py",
   "mimetype": "text/x-python",
   "name": "python",
   "nbconvert_exporter": "python",
   "pygments_lexer": "ipython3",
   "version": "3.7.4"
  }
 },
 "nbformat": 4,
 "nbformat_minor": 2
}
