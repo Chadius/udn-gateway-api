{
 "cells": [
  {
   "cell_type": "code",
   "execution_count": 1,
   "metadata": {},
   "outputs": [],
   "source": [
    "import requests\n",
    "import json"
   ]
  },
  {
   "cell_type": "markdown",
   "metadata": {},
   "source": [
    "## Authentication\n",
    "A authorization token is needed to access the UDN Gateway API.  This token is shown in the dictionary below as the `Authorization` token. Login to the web UDN Gateway and navigate to the API tab to obtain an authorization token."
   ]
  },
  {
   "cell_type": "code",
   "execution_count": 90,
   "metadata": {},
   "outputs": [],
   "source": [
    "gateway_token = '<your api token here>'"
   ]
  },
  {
   "cell_type": "code",
   "execution_count": 91,
   "metadata": {},
   "outputs": [],
   "source": [
    "headers = {\n",
    "    'Content-Type': 'application/json', \n",
    "    'Authorization': 'Token {token}'.format(token=gateway_token) \n",
    "}"
   ]
  },
  {
   "cell_type": "markdown",
   "metadata": {},
   "source": [
    "### Setup a host\n",
    "This simplifies switching between multiple systems during testing"
   ]
  },
  {
   "cell_type": "code",
   "execution_count": 92,
   "metadata": {},
   "outputs": [],
   "source": [
    "host = 'https://gateway.undiagnosed.hms.harvard.edu'"
   ]
  },
  {
   "cell_type": "markdown",
   "metadata": {},
   "source": [
    "### Sequence Record Details\n",
    "\n",
    "The endpoint to GET sequence record details is `/api/sequence/{id}` where `id` is the ID of the sequence record.   \n",
    "\n",
    "Sequencing Core sites are identified with `core` set to a string according to the following dictionary\n",
    "\n",
    "- 1: Baylor College of Medicine \n",
    "- 2: HudsonAlpha \n",
    "- 3: Baylor (RNASeq)\n",
    "- 4: Duke/Columbia (RNASeq)\n",
    "- 5: Stanford (RNASeq)\n",
    "- 6: UCLA (RNASeq)\n",
    "\n",
    "Type of sequencing is set with `sequencing_type` set to a string according to the following dictionary\n",
    "\n",
    "- 1: Targeted Variant\n",
    "- 2: Whole Exome \n",
    "- 3: Whole Genome\n",
    "- 4: Transcriptome\n",
    "\n",
    "DNA source is set with `dnasource` according to the following dictionary\n",
    "\n",
    "- 1: Blood\n",
    "- 2: Fibroblasts\n",
    "- 3: Other\n",
    "\n",
    "When DNA source is set to `other` see the `dnasourceother` field for a description"
   ]
  },
  {
   "cell_type": "markdown",
   "metadata": {},
   "source": [
    "### Get Sequence Record details"
   ]
  },
  {
   "cell_type": "code",
   "execution_count": 104,
   "metadata": {
    "scrolled": false
   },
   "outputs": [
    {
     "name": "stdout",
     "output_type": "stream",
     "text": [
      "accessionnumber: None\n",
      "dnasend: None\n",
      "dnaquantity: None\n",
      "core: 6\n",
      "sequencingfiles: []\n",
      "testrequestedother: None\n",
      "testrequested: 1\n",
      "created_by: 669\n",
      "dnaextracted: None\n",
      "dateprior: None\n",
      "trackingnumber: None\n",
      "id: 341\n",
      "has_prior_sequencing: None\n",
      "sequencereports: []\n",
      "modified_with_session_key: 1kz9uh442rdhsdhrrkgtoiu00yq8qvd7\n",
      "dnaquality: None\n",
      "yearpriorisknown: None\n",
      "labname: api\n",
      "sampleid: 41474043-a87e-43fb-943b-196fc76ef0d1\n",
      "submit: False\n",
      "typeofsequencing: 1\n",
      "questions_contact: None\n",
      "labpriormany: []\n",
      "created_with_session_key: 1kz9uh442rdhsdhrrkgtoiu00yq8qvd7\n",
      "rationaleexome: None\n",
      "dnareceived: None\n",
      "primarycarecontact: None\n",
      "patient: {u'simpleid': u'UDN74489'}\n",
      "previous_sequencing_types: None\n",
      "dnaextra: None\n",
      "sequencing_type: 4\n",
      "dnasourceother: None\n",
      "rationale: None\n",
      "modified_by: 669\n",
      "labprior: None\n",
      "extractionmethod: None\n",
      "barcode1: None\n",
      "barcode2: None\n",
      "sangerrequests: []\n",
      "dnasource: 1\n",
      "notes: None\n",
      "participantcontact: None\n",
      "yearprior: None\n",
      "reanalyze: False\n",
      "rationalewhole: None\n"
     ]
    }
   ],
   "source": [
    "url = '{host}/api/sequence/{id}/'.format(host=host, id=id)\n",
    "r = requests.get(url, headers=headers)\n",
    "if r.status_code == 200:\n",
    "    for key in r.json():\n",
    "        print '{key}: {value}'.format(key=key, value=r.json()[key])"
   ]
  }
 ],
 "metadata": {
  "kernelspec": {
   "display_name": "Python 3",
   "language": "python",
   "name": "python3"
  },
  "language_info": {
   "codemirror_mode": {
    "name": "ipython",
    "version": 3
   },
   "file_extension": ".py",
   "mimetype": "text/x-python",
   "name": "python",
   "nbconvert_exporter": "python",
   "pygments_lexer": "ipython3",
   "version": "3.7.4"
  }
 },
 "nbformat": 4,
 "nbformat_minor": 2
}
