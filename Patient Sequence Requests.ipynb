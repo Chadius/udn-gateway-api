{
 "cells": [
  {
   "cell_type": "code",
   "execution_count": 2,
   "metadata": {},
   "outputs": [],
   "source": [
    "import requests\n",
    "import json"
   ]
  },
  {
   "cell_type": "markdown",
   "metadata": {},
   "source": [
    "## Authentication\n",
    "A authorization token is needed to access the UDN Gateway API.  This token is shown in the dictionary below as the `Authorization` token. Login to the web UDN Gateway and navigate to the API tab to obtain an authorization token."
   ]
  },
  {
   "cell_type": "code",
   "execution_count": 11,
   "metadata": {},
   "outputs": [],
   "source": [
    "# user: dan@udn.org\n",
    "# groups: clinical, api, harvard aff\n",
    "gateway_token = 'xxxx'"
   ]
  },
  {
   "cell_type": "code",
   "execution_count": 12,
   "metadata": {},
   "outputs": [],
   "source": [
    "headers = {\n",
    "    'Content-Type': 'application/json', \n",
    "    'Authorization': 'Token ' + gateway_token, \n",
    "}"
   ]
  },
  {
   "cell_type": "markdown",
   "metadata": {},
   "source": [
    "### Setup a host\n",
    "This simplifies switching between multiple systems during testing"
   ]
  },
  {
   "cell_type": "code",
   "execution_count": null,
   "metadata": {},
   "outputs": [],
   "source": [
    "host = 'localhost:8001'"
   ]
  },
  {
   "cell_type": "markdown",
   "metadata": {},
   "source": [
    "### Post a new sequence\n",
    "\n",
    "The endpoint to post a new sequence is `/api/sequences/`\n",
    "\n",
    "The POST must include a data dictionary containing the `patient` UDN ID dictionary format as `{'simpleid': '<UDN ID>'}` and a `labname` as a string.   \n",
    "\n",
    "Sequencing Core sites are identified with `core` set to a string according to the following dictionary\n",
    "\n",
    "- Baylor College of Medicine : 1\n",
    "- HudsonAlpha : 2\n",
    "- Baylor (RNASeq) : 3\n",
    "- Duke/Columbia (RNASeq) : 4\n",
    "- Stanford (RNASeq) : 5\n",
    "- UCLA (RNASeq) : 6\n",
    "\n",
    "Type of sequencing is set with `sequencing_type` set to a string according to the following dictionary\n",
    "\n",
    "- Targeted Variant : 1\n",
    "- Whole Exome : 2\n",
    "- Whole Genome : 3\n",
    "- Transcriptome : 4"
   ]
  },
  {
   "cell_type": "code",
   "execution_count": 30,
   "metadata": {},
   "outputs": [
    {
     "name": "stdout",
     "output_type": "stream",
     "text": [
      "<Response [201]>\n"
     ]
    }
   ],
   "source": [
    "url = 'http://{host}/api/sequences/'.format(host=host)\n",
    "data = {'patient': {'simpleid': 'UDN74489'},\n",
    "        'labname': 'api', \n",
    "        'core': '6',\n",
    "        'sequencing_type': '4'\n",
    "       }\n",
    "r = requests.post(url, headers=headers, data=json.dumps(data))\n",
    "print r\n",
    "r.json()\n",
    "id = r.json()['id']"
   ]
  },
  {
   "cell_type": "code",
   "execution_count": 31,
   "metadata": {},
   "outputs": [
    {
     "data": {
      "text/plain": [
       "323"
      ]
     },
     "execution_count": 31,
     "metadata": {},
     "output_type": "execute_result"
    }
   ],
   "source": [
    "id"
   ]
  },
  {
   "cell_type": "code",
   "execution_count": 32,
   "metadata": {},
   "outputs": [
    {
     "name": "stdout",
     "output_type": "stream",
     "text": [
      "<Response [200]>\n"
     ]
    },
    {
     "data": {
      "text/plain": [
       "{u'accessionnumber': None,\n",
       " u'barcode1': None,\n",
       " u'barcode2': None,\n",
       " u'core': 6,\n",
       " u'created_by': 669,\n",
       " u'created_with_session_key': u'tekhc11zebqi00hpb0f70uois89gwmc4',\n",
       " u'dateprior': None,\n",
       " u'dnaextra': None,\n",
       " u'dnaextracted': None,\n",
       " u'dnaquality': None,\n",
       " u'dnaquantity': None,\n",
       " u'dnareceived': None,\n",
       " u'dnasend': None,\n",
       " u'dnasource': u'1',\n",
       " u'dnasourceother': None,\n",
       " u'extractionmethod': None,\n",
       " u'has_prior_sequencing': None,\n",
       " u'id': 323,\n",
       " u'labname': u'api',\n",
       " u'labprior': None,\n",
       " u'labpriormany': [],\n",
       " u'modified_by': 669,\n",
       " u'modified_with_session_key': u'tekhc11zebqi00hpb0f70uois89gwmc4',\n",
       " u'notes': None,\n",
       " u'participantcontact': None,\n",
       " u'patient': {u'simpleid': u'UDN74489'},\n",
       " u'previous_sequencing_types': None,\n",
       " u'primarycarecontact': None,\n",
       " u'questions_contact': None,\n",
       " u'rationale': None,\n",
       " u'rationaleexome': None,\n",
       " u'rationalewhole': None,\n",
       " u'reanalyze': False,\n",
       " u'sampleid': u'4639cf0e-682f-4173-946f-bffff241b9cb',\n",
       " u'sangerrequests': [],\n",
       " u'sequencereports': [],\n",
       " u'sequencing_type': 4,\n",
       " u'sequencingfiles': [],\n",
       " u'submit': False,\n",
       " u'testrequested': 1,\n",
       " u'testrequestedother': None,\n",
       " u'trackingnumber': None,\n",
       " u'typeofsequencing': 1,\n",
       " u'yearprior': None,\n",
       " u'yearpriorisknown': None}"
      ]
     },
     "execution_count": 32,
     "metadata": {},
     "output_type": "execute_result"
    }
   ],
   "source": [
    "url = 'http://{host}/api/sequence/{id}/'.format(host=host, id=id)\n",
    "r = requests.get(url, headers=headers, data=json.dumps(data))\n",
    "print r\n",
    "r.json()"
   ]
  },
  {
   "cell_type": "code",
   "execution_count": null,
   "metadata": {},
   "outputs": [],
   "source": []
  }
 ],
 "metadata": {
  "kernelspec": {
   "display_name": "Python 2",
   "language": "python",
   "name": "python2"
  },
  "language_info": {
   "codemirror_mode": {
    "name": "ipython",
    "version": 2
   },
   "file_extension": ".py",
   "mimetype": "text/x-python",
   "name": "python",
   "nbconvert_exporter": "python",
   "pygments_lexer": "ipython2",
   "version": "2.7.10"
  }
 },
 "nbformat": 4,
 "nbformat_minor": 2
}
